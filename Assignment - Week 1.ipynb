{
 "cells": [
  {
   "attachments": {},
   "cell_type": "markdown",
   "metadata": {},
   "source": [
    "# Assignment 1\n",
    "## 2023/2/11\n",
    "**XINYUAN**\n",
    "\n",
    "- Python\n",
    "- Java\n",
    "- C\n",
    "\n",
    "| Intermediate devices | End devices | Media |\n",
    "| :---: | :---: | :---: |\n",
    "| Router | Laptop | Wireless Connections |\n",
    "| Switch | Phone | Cables |"
   ]
  },
  {
   "cell_type": "code",
   "execution_count": 3,
   "metadata": {},
   "outputs": [
    {
     "name": "stdout",
     "output_type": "stream",
     "text": [
      "xinyuan\n"
     ]
    }
   ],
   "source": [
    "print(\"xinyuan\")"
   ]
  },
  {
   "cell_type": "code",
   "execution_count": 5,
   "metadata": {},
   "outputs": [
    {
     "name": "stdout",
     "output_type": "stream",
     "text": [
      "Hello 1\n"
     ]
    }
   ],
   "source": [
    "name = input(\"What is your name?\")\n",
    "print(\"Hello \" + name)"
   ]
  },
  {
   "cell_type": "code",
   "execution_count": 2,
   "metadata": {},
   "outputs": [
    {
     "name": "stdout",
     "output_type": "stream",
     "text": [
      "16\n"
     ]
    }
   ],
   "source": [
    "print(int(input(\"Number A\")) + int(input(\"Number B\")))"
   ]
  }
 ],
 "metadata": {
  "kernelspec": {
   "display_name": "Python 3",
   "language": "python",
   "name": "python3"
  },
  "language_info": {
   "codemirror_mode": {
    "name": "ipython",
    "version": 3
   },
   "file_extension": ".py",
   "mimetype": "text/x-python",
   "name": "python",
   "nbconvert_exporter": "python",
   "pygments_lexer": "ipython3",
   "version": "3.11.2"
  },
  "orig_nbformat": 4,
  "vscode": {
   "interpreter": {
    "hash": "30a1ac9401ee91fb85e724550c5c50d2957bc6ad9f5c93a2ef660ff077dfd63d"
   }
  }
 },
 "nbformat": 4,
 "nbformat_minor": 2
}
