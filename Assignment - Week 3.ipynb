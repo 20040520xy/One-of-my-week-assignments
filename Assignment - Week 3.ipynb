{
 "cells": [
  {
   "attachments": {},
   "cell_type": "markdown",
   "metadata": {},
   "source": [
    "# YUAN XIN\n",
    "## 2023/2/27"
   ]
  },
  {
   "cell_type": "code",
   "execution_count": 15,
   "metadata": {},
   "outputs": [
    {
     "name": "stdout",
     "output_type": "stream",
     "text": [
      "456\n"
     ]
    }
   ],
   "source": [
    "product = lambda num1,num2: num1*num2\n",
    "num1 = int(input(\"Number 1\"))\n",
    "num2 = int(input(\"Number 2\"))\n",
    "print(product(num1,num2))"
   ]
  },
  {
   "cell_type": "code",
   "execution_count": 12,
   "metadata": {},
   "outputs": [
    {
     "name": "stdout",
     "output_type": "stream",
     "text": [
      "Radius: 5\n",
      "Area of the circle: 78.53981633974483\n"
     ]
    }
   ],
   "source": [
    "from math import pi\n",
    "def function(radius):\n",
    "    return pi*radius**2\n",
    "radius = int(input(\"Radius\"))\n",
    "print(\"Radius: \" + str(radius))\n",
    "print(\"Area of the circle: \" + str(function(radius)))"
   ]
  },
  {
   "cell_type": "code",
   "execution_count": 2,
   "metadata": {},
   "outputs": [
    {
     "name": "stdout",
     "output_type": "stream",
     "text": [
      "Input A: 23\n",
      "Input B: 32\n",
      "Arithmetic: Multiply\n",
      "Output: 736\n"
     ]
    }
   ],
   "source": [
    "num1 = int(input(\"Input Number\"))\n",
    "print(\"Input A: \" + str(num1))\n",
    "num2 = int(input(\"Input Number\"))\n",
    "print(\"Input B: \" + str(num2))\n",
    "Rule = input(\"add / subtract / multiply / divide\")\n",
    "\n",
    "def add(num1,num2):\n",
    "    return num1 + num2\n",
    "def subtract(num1,num2):\n",
    "    return num1 - num2\n",
    "def multiply(num1,num2):\n",
    "    return num1 * num2\n",
    "def divide(num1,num2):\n",
    "    return num1 / num2\n",
    "\n",
    "if Rule == \"a\":\n",
    "    print(\"Arithmetic: \" + \"Add\")\n",
    "    print(\"Output: \" + str(num1 + num2))\n",
    "if Rule == \"s\":\n",
    "    print(\"Arithmetic: \" + \"Subtract\")\n",
    "    print(\"Output: \" + str(num1 - num2))\n",
    "if Rule == \"m\":\n",
    "    print(\"Arithmetic: \" + \"Multiply\")\n",
    "    print(\"Output: \" + str(num1 * num2))\n",
    "if Rule == \"d\":\n",
    "    print(\"Arithmetic: \" + \"Divide\")\n",
    "    print(\"Output: \" + str(num1 / num2))"
   ]
  },
  {
   "cell_type": "code",
   "execution_count": 20,
   "metadata": {},
   "outputs": [
    {
     "name": "stdout",
     "output_type": "stream",
     "text": [
      "The area of the rectangle is: 2025\n"
     ]
    }
   ],
   "source": [
    "class Rectangle():\n",
    "    def __init__(self, length, width):\n",
    "        self.length = length\n",
    "        self.width = width\n",
    "    def area(self):\n",
    "        print(\"The area of the rectangle is: \" + str(self.length*self.width))\n",
    "\n",
    "Rectangle_1 = Rectangle(int(input(\"Length\")),int(input(\"Width\")))\n",
    "Rectangle_1.area()"
   ]
  },
  {
   "cell_type": "code",
   "execution_count": 32,
   "metadata": {},
   "outputs": [
    {
     "name": "stdout",
     "output_type": "stream",
     "text": [
      "The area is: 25\n",
      "This is a Square\n"
     ]
    }
   ],
   "source": [
    "class Shape():\n",
    "    def __init__(self,name,length):\n",
    "        self.name = name\n",
    "        self.length = length\n",
    "    def area(self):\n",
    "        print(\"The area is: \" + str(self.length**2))\n",
    "        print(\"This is a Square\")\n",
    "\n",
    "class Square(Shape):\n",
    "    def __init__(self,name,length):\n",
    "        super().__init__(Square,length)\n",
    "\n",
    "Square_1 = Shape((),int(input(\"Length\")))\n",
    "Square_1.area()"
   ]
  },
  {
   "cell_type": "code",
   "execution_count": 35,
   "metadata": {},
   "outputs": [
    {
     "name": "stdout",
     "output_type": "stream",
     "text": [
      "The area is: 529\n",
      "This is a Square\n"
     ]
    }
   ],
   "source": [
    "class Shape():\n",
    "    def __init__(self,name,length):\n",
    "        self.name = name\n",
    "        self.length = length\n",
    "\n",
    "class Square(Shape):\n",
    "    def __init__(self,name,length):\n",
    "        super().__init__(name,length)\n",
    "    def area(self):\n",
    "        print(\"The area is: \" + str(self.length**2))\n",
    "        print(\"This is a Square\")\n",
    "\n",
    "Square_1 = Square(\"Square\",int(input(\"Length\")))\n",
    "Square_1.area()"
   ]
  }
 ],
 "metadata": {
  "kernelspec": {
   "display_name": "Python 3",
   "language": "python",
   "name": "python3"
  },
  "language_info": {
   "codemirror_mode": {
    "name": "ipython",
    "version": 3
   },
   "file_extension": ".py",
   "mimetype": "text/x-python",
   "name": "python",
   "nbconvert_exporter": "python",
   "pygments_lexer": "ipython3",
   "version": "3.11.2"
  },
  "orig_nbformat": 4,
  "vscode": {
   "interpreter": {
    "hash": "30a1ac9401ee91fb85e724550c5c50d2957bc6ad9f5c93a2ef660ff077dfd63d"
   }
  }
 },
 "nbformat": 4,
 "nbformat_minor": 2
}
