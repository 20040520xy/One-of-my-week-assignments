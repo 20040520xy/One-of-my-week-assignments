{
 "cells": [
  {
   "attachments": {},
   "cell_type": "markdown",
   "metadata": {},
   "source": [
    "# YUAN XIN\n",
    "## 2023/2/20"
   ]
  },
  {
   "cell_type": "code",
   "execution_count": 1,
   "metadata": {},
   "outputs": [
    {
     "name": "stdout",
     "output_type": "stream",
     "text": [
      "The result of the calculation was:\n",
      "             149769\n"
     ]
    }
   ],
   "source": [
    "value_1 = input(\"Given number 100\")\n",
    "value_2 = input(\"Given number 29\")\n",
    "x = (int(value_1) + int(value_2)) * int(3)\n",
    "result = str(int(x)**2)\n",
    "print(\"The result of the calculation was:\")\n",
    "print(\"             \" + result)"
   ]
  },
  {
   "cell_type": "code",
   "execution_count": 352,
   "metadata": {},
   "outputs": [
    {
     "name": "stdout",
     "output_type": "stream",
     "text": [
      "04YUA324\n"
     ]
    }
   ],
   "source": [
    "name = input(\"Your name\")\n",
    "year_of_birth = input(\"Your year of birth\")\n",
    "age = input(\"Your age\")\n",
    "password = (str(year_of_birth[2:4]) + str(name[0:3]) + str(int(age)**2))\n",
    "print(password)"
   ]
  },
  {
   "cell_type": "code",
   "execution_count": 353,
   "metadata": {},
   "outputs": [
    {
     "name": "stdout",
     "output_type": "stream",
     "text": [
      "Both numbers are odd \n"
     ]
    }
   ],
   "source": [
    "Number_A = int(input(\"Number A\"))\n",
    "Number_B = int(input(\"Number B\"))\n",
    "if (Number_A % 2) == 0 and (Number_B % 2) == 0:\n",
    "    print(\"Both numbers are even\")\n",
    "elif (Number_A % 2) == 0 or (Number_B % 2) == 0:\n",
    "    print(\"One of the numbers is even\")\n",
    "else:\n",
    "    print(\"Both numbers are odd \")"
   ]
  },
  {
   "cell_type": "code",
   "execution_count": 22,
   "metadata": {},
   "outputs": [
    {
     "name": "stdout",
     "output_type": "stream",
     "text": [
      "The sum is: 2346\n"
     ]
    }
   ],
   "source": [
    "x = int(input(\"Please input an integer\"))\n",
    "sum = 0\n",
    "\n",
    "for i in range(0,x + 1):\n",
    "    sum += i\n",
    "print(\"The sum is: \" + str(sum))"
   ]
  },
  {
   "cell_type": "code",
   "execution_count": 2,
   "metadata": {},
   "outputs": [
    {
     "name": "stdout",
     "output_type": "stream",
     "text": [
      "Game Start\n",
      "\n",
      "Player guess: 2\n",
      "Try a smaller number\n",
      "Player guess: 1\n",
      "Try a smaller number\n",
      "Player guess: 0\n",
      "You Won! Number of tries: 1\n"
     ]
    }
   ],
   "source": [
    "from random import randint\n",
    "Answer = randint(1,10)\n",
    "\n",
    "print(\"Game Start\")\n",
    "print()\n",
    "Guess = int(input(\"Guess a number\"))\n",
    "\n",
    "x = 1\n",
    "while Guess != Answer:\n",
    "    if Guess < Answer:\n",
    "        x += 1\n",
    "        print(\"Player guess: \" + str(Guess))\n",
    "        print(\"Try a greater number\")\n",
    "        Guess = int(input(\"Guess a number\")) \n",
    "    elif Guess > Answer:\n",
    "        print(\"Player guess: \" + str(Guess))\n",
    "        print(\"Try a smaller number\")\n",
    "        Guess = int(input(\"Guess a number\"))\n",
    "\n",
    "if Guess == Answer:\n",
    "    print(\"Player guess: \" + str(Guess))\n",
    "    print(\"You Won! Number of tries: \" + str(x) )"
   ]
  },
  {
   "cell_type": "code",
   "execution_count": 7,
   "metadata": {},
   "outputs": [
    {
     "name": "stdout",
     "output_type": "stream",
     "text": [
      "Game Start\n",
      "\n",
      "Player 1:\n",
      "Player 1 guess: 3\n",
      "Try a greater number\n",
      "Player 1 guess: 5\n",
      "Try a greater number\n",
      "Player 1 guess: 7\n",
      "Try a greater number\n",
      "Player 1 guess: 9\n",
      "Player 1 Won! Number of tries: 4\n",
      "\n",
      "Player 2:\n",
      "Player 2 guess: 2\n",
      "Try a greater number\n",
      "Player 2 guess: 6\n",
      "Try a smaller number\n",
      "Player 2 guess: 4\n",
      "Try a greater number\n",
      "Player 2 guess: 5\n",
      "Player 2 Won! Number of tries: 4\n",
      "\n",
      "Draw!\n"
     ]
    }
   ],
   "source": [
    "import random\n",
    "Answer_1 = random.randint(1,10)\n",
    "\n",
    "print(\"Game Start\")\n",
    "print()\n",
    "print(\"Player 1:\")\n",
    "Guess_1 = int(input(\"Player 1: Guess a number\"))\n",
    "\n",
    "Number_of_tries_Player_1 = 1\n",
    "while Guess_1 != Answer_1:\n",
    "    Number_of_tries_Player_1 += 1\n",
    "    if Guess_1 < Answer_1:\n",
    "        print(\"Player 1 guess: \" + str(Guess_1))\n",
    "        print(\"Try a greater number\")\n",
    "        Guess_1 = int(input(\"Player 1: Guess a number\"))\n",
    "    elif Guess_1 > Answer_1:\n",
    "        print(\"Player 1 guess: \" + str(Guess_1))\n",
    "        print(\"Try a smaller number\")\n",
    "        Guess_1 = int(input(\"Player 1: Guess a number\"))\n",
    "\n",
    "if Guess_1 == Answer_1:\n",
    "    print(\"Player 1 guess: \" + str(Guess_1))\n",
    "    print(\"Player 1 Won! Number of tries: \" + str(Number_of_tries_Player_1) )\n",
    "    print()\n",
    "\n",
    "import random\n",
    "Answer_2 = random.randint(1,10)\n",
    "\n",
    "print(\"Player 2:\")\n",
    "Guess_2 = int(input(\"Player 2: Guess a number\"))\n",
    "\n",
    "Number_of_tries_Player_2 = 1\n",
    "while Guess_2 != Answer_2:\n",
    "    Number_of_tries_Player_2 += 1\n",
    "    if Guess_2 < Answer_2:\n",
    "        print(\"Player 2 guess: \" + str(Guess_2))\n",
    "        print(\"Try a greater number\")\n",
    "        Guess_2 = int(input(\"Player 2: Guess a number\"))\n",
    "    elif Guess_2 > Answer_2:\n",
    "        print(\"Player 2 guess: \" + str(Guess_2))\n",
    "        print(\"Try a smaller number\")\n",
    "        Guess_2 = int(input(\"Player 2: Guess a number\"))\n",
    "\n",
    "if Guess_2 == Answer_2:\n",
    "    print(\"Player 2 guess: \" + str(Guess_2))\n",
    "    print(\"Player 2 Won! Number of tries: \" + str(Number_of_tries_Player_2) )\n",
    "    print()\n",
    "\n",
    "if Number_of_tries_Player_1 < Number_of_tries_Player_2:\n",
    "    print(\"Player 1 Won!\")\n",
    "elif Number_of_tries_Player_2 < Number_of_tries_Player_1:\n",
    "    print(\"Player 2 Won!\")\n",
    "else:\n",
    "    print(\"Draw!\")"
   ]
  }
 ],
 "metadata": {
  "kernelspec": {
   "display_name": "Python 3",
   "language": "python",
   "name": "python3"
  },
  "language_info": {
   "codemirror_mode": {
    "name": "ipython",
    "version": 3
   },
   "file_extension": ".py",
   "mimetype": "text/x-python",
   "name": "python",
   "nbconvert_exporter": "python",
   "pygments_lexer": "ipython3",
   "version": "3.11.2"
  },
  "orig_nbformat": 4,
  "vscode": {
   "interpreter": {
    "hash": "30a1ac9401ee91fb85e724550c5c50d2957bc6ad9f5c93a2ef660ff077dfd63d"
   }
  }
 },
 "nbformat": 4,
 "nbformat_minor": 2
}
